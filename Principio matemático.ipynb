{
 "cells": [
  {
   "cell_type": "markdown",
   "metadata": {},
   "source": [
    "   El principio matemático de nuestro algoritmo de inteligencia artificial, el PSO, se basa en que cada partícula o individuo tiene una posición, p⃗  en 2 dimensiones vendrá determinado por un vector de la forma (x,y), en el espacio de búsqueda y una velocidad, v⃗  que en 2 dimensiones vendrá determinado por un vector de la forma (vx,vy), con la que se mueve a través del espacio, cabe aclarar que puede tener más de 2 dimensiones. Además, como partículas de un mundo real físico, tienen una cantidad de inercia, que los mantiene en la misma dirección en la que se movían, así como una aceleración, que depende principalmente de dos características:\n",
    "\n",
    "   Cada partícula es atraída hacia la mejor localización que ella, personalmente, ha encontrado en su historia mejor individual.\n",
    "   Cada partícula es atraída hacia la mejor localización que ha sido encontrada por el conjunto de partículas en el espacio de búsqueda mejor global.\n",
    "   La fuerza con que las partículas son empujadas en cada una de estas direcciones depende de dos parámetros  que pueden ajustarse atracción-al-mejor-personal y atracción-al-mejor-global, de foma que a medida que las partículas se alejan de estas localizaciones mejores, la fuerza de atracción es mayor. También se suele incluir un factor aleatorio que influye en cómo las partículas son empujadas hacia estas localizaciones.\n"
   ]
  }
 ],
 "metadata": {
  "kernelspec": {
   "display_name": "Python [Anaconda3]",
   "language": "python",
   "name": "Python [Anaconda3]"
  },
  "language_info": {
   "codemirror_mode": {
    "name": "ipython",
    "version": 3
   },
   "file_extension": ".py",
   "mimetype": "text/x-python",
   "name": "python",
   "nbconvert_exporter": "python",
   "pygments_lexer": "ipython3",
   "version": "3.5.2"
  }
 },
 "nbformat": 4,
 "nbformat_minor": 0
}
