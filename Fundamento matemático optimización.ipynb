{
 "cells": [
  {
   "cell_type": "markdown",
   "metadata": {},
   "source": [
    "Proyecto final trading "
   ]
  },
  {
   "cell_type": "markdown",
   "metadata": {},
   "source": [
    "El concepto matemático en el cual nos basaremos para la optimicación de los parámetros a modificar para nuestro algoritmo de compra y venta dependiendo del análisis fundamental previamente visto en el parcial pasado, será utilizar un algoritmos genético o un PSO."
   ]
  },
  {
   "cell_type": "markdown",
   "metadata": {},
   "source": [
    "El principio matemático de estos algoritmos de inteligencia artificial para la optimización de problemas, se basa en ir aprendiendo a través del tiempo o también llamadoas generaciones, a través de prueba y error en los genotipos más fuertes y más débiles, los cuales sobreviven y continuan mejorandose, y en el caso del enjambre de partículas se basa en la exploración de la solución más optima por muchos elementos llamados partículas, las cuales exploran de manera rápida varias posibilidades hasta encontrar con la solución o el punto más optimo del problema, en este caso los parámetros a optimizar. "
   ]
  },
  {
   "cell_type": "markdown",
   "metadata": {},
   "source": [
    "Con esto se puede obtener de una manera más rápida y precisa una solución entre todo el espacio de búsqueda de nuestro problema con analisis fundamental, ya que cuenta con muchísimas combinaciones y tamaños de pasos, lo cual dificulta ver de manera simple la mejor combinación para que el algoritmo tome la mejor desicion y esto nos genere mayores rendimientos. "
   ]
  }
 ],
 "metadata": {
  "kernelspec": {
   "display_name": "Python [Anaconda3]",
   "language": "python",
   "name": "Python [Anaconda3]"
  },
  "language_info": {
   "codemirror_mode": {
    "name": "ipython",
    "version": 3
   },
   "file_extension": ".py",
   "mimetype": "text/x-python",
   "name": "python",
   "nbconvert_exporter": "python",
   "pygments_lexer": "ipython3",
   "version": "3.5.2"
  }
 },
 "nbformat": 4,
 "nbformat_minor": 0
}
