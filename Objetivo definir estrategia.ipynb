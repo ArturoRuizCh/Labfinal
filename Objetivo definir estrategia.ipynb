{
 "cells": [
  {
   "cell_type": "markdown",
   "metadata": {},
   "source": [
    "Bueno lo primero que relizaremos en nuestra estrategia es definir nuestra función a maximizar, la cual será el rendimiento.Luego obtendremos los datos del archivo pasado, ya que es anailisis fundamental de una noticia de Estados Unidos, lo cual ya lo tenemmos. Luego analizaremos los escenarios planteados por el algoritmo de frecuncias a,b,c,d para ver si se compra o se vende cuando sucede ese mismo escenario en otra ocasión. A continuación analizaremos los parámetros a modificar como el volumen de títulos, tamaño de la ventana, algo relacionado con el informa propio. Desúés de tener los parámetros a optimizar, los optimizaremos mediante el PSO, el cual es un enjambre de particulas que busca entre trodas las combinaciones el que nos arroje un mejor rendimiento, y con esos parametros haremos pruebas y verifiación para ver que realmente funcione. Guardaremos los resultados de las iteraciones y después las graficaremos en una gráfica de 4 dimensiones con los parámtros para poder entenderlos de forma visual.Luego calcularemos las medidas de atribución al desempeño y obtendremos el drawdown y el balance de la cuenta final para ver si funcionó. Por último observando el desempeño logrado lo trataremos de hacer en tiempo real, para que se haga de forma autónoma. "
   ]
  }
 ],
 "metadata": {
  "anaconda-cloud": {},
  "kernelspec": {
   "display_name": "Python [Anaconda3]",
   "language": "python",
   "name": "Python [Anaconda3]"
  },
  "language_info": {
   "codemirror_mode": {
    "name": "ipython",
    "version": 3
   },
   "file_extension": ".py",
   "mimetype": "text/x-python",
   "name": "python",
   "nbconvert_exporter": "python",
   "pygments_lexer": "ipython3",
   "version": "3.5.2"
  }
 },
 "nbformat": 4,
 "nbformat_minor": 0
}
